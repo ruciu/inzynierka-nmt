{
 "cells": [
  {
   "cell_type": "markdown",
   "metadata": {
    "collapsed": true
   },
   "source": [
    "# Przygotowanie danych"
   ]
  },
  {
   "cell_type": "markdown",
   "metadata": {},
   "source": [
    "## Import bibliotek"
   ]
  },
  {
   "cell_type": "code",
   "execution_count": 11,
   "metadata": {
    "collapsed": true
   },
   "outputs": [],
   "source": [
    "import os\n",
    "import sys\n",
    "import string\n",
    "import random"
   ]
  },
  {
   "cell_type": "markdown",
   "metadata": {},
   "source": [
    "## Stałe"
   ]
  },
  {
   "cell_type": "code",
   "execution_count": 12,
   "metadata": {
    "collapsed": false
   },
   "outputs": [],
   "source": [
    "DATA_DIR = \"./corpora\" # sciezka do plików z danymi\n",
    "CORPORA_FILE = \"en-pl.txt\" # plik ze zdaniami\n",
    "CLEAN_CORPORA = \"clean_en-pl.txt\" #oczyszcone zdania\n",
    "PL_SENTENCES = \"sentences_pl.txt\" # plik z polskimi zdaniami\n",
    "EN_SENTENCES = \"sentences_en.txt\" # plik z polskimi zdaniami\n",
    "PL_TRAIN = \"train_pl.txt\" #plik z polskimi treningowymi\n",
    "PL_DEV = \"dev_pl.txt\" #plik z polskim dev seten\n",
    "PL_TEST = \"test_pl.txt\" #plik z polskim test setem \n",
    "EN_TRAIN = \"train_en.txt\" #plik z angielskimi treningowymi\n",
    "EN_DEV = \"dev_en.txt\" #plik z polskim dev setem\n",
    "EN_TEST = \"test_en.txt\" #plik z polskim test setem"
   ]
  },
  {
   "cell_type": "markdown",
   "metadata": {},
   "source": [
    "## Wyczyszczenie danych"
   ]
  },
  {
   "cell_type": "code",
   "execution_count": 17,
   "metadata": {
    "collapsed": false
   },
   "outputs": [],
   "source": [
    "corpora_path = os.path.join(DATA_DIR, CORPORA_FILE)\n",
    "corpora_file = open(corpora_path, \"r\")\n",
    "corpora = corpora_file.read()\n",
    "corpora_file.close()\n",
    "\n",
    "lowercase = corpora.lower() # zamiana wszystkich liter na małe\n",
    "table = str.maketrans('', '', string.punctuation)\n",
    "no_punctuation = lowercase.translate(table) # wyczyszczenie interpunkcji\n",
    "\n",
    "clean_path = os.path.join(DATA_DIR, CLEAN_CORPORA)\n",
    "clean_file = open(clean_path, \"w\")\n",
    "clean_file.write(no_punctuation)\n",
    "clean_file.close()"
   ]
  },
  {
   "cell_type": "markdown",
   "metadata": {},
   "source": [
    "## Podział języków"
   ]
  },
  {
   "cell_type": "code",
   "execution_count": 9,
   "metadata": {
    "collapsed": false
   },
   "outputs": [
    {
     "name": "stdout",
     "output_type": "stream",
     "text": [
      "Unexpected error: <class 'ValueError'>\n",
      "Unexpected error: <class 'ValueError'>\n",
      "Unexpected error: <class 'ValueError'>\n",
      "Unexpected error: <class 'ValueError'>\n",
      "Unexpected error: <class 'ValueError'>\n",
      "Unexpected error: <class 'ValueError'>\n",
      "Unexpected error: <class 'ValueError'>\n",
      "Unexpected error: <class 'ValueError'>\n",
      "Unexpected error: <class 'ValueError'>\n",
      "Unexpected error: <class 'ValueError'>\n",
      "Unexpected error: <class 'ValueError'>\n",
      "Unexpected error: <class 'ValueError'>\n",
      "Unexpected error: <class 'ValueError'>\n",
      "Unexpected error: <class 'ValueError'>\n",
      "Unexpected error: <class 'ValueError'>\n",
      "Unexpected error: <class 'ValueError'>\n",
      "Unexpected error: <class 'ValueError'>\n",
      "Unexpected error: <class 'ValueError'>\n",
      "Unexpected error: <class 'ValueError'>\n",
      "Unexpected error: <class 'ValueError'>\n",
      "Unexpected error: <class 'ValueError'>\n",
      "Unexpected error: <class 'ValueError'>\n",
      "Unexpected error: <class 'ValueError'>\n",
      "Unexpected error: <class 'ValueError'>\n",
      "Unexpected error: <class 'ValueError'>\n",
      "Unexpected error: <class 'ValueError'>\n",
      "Unexpected error: <class 'ValueError'>\n",
      "Unexpected error: <class 'ValueError'>\n",
      "Unexpected error: <class 'ValueError'>\n",
      "Unexpected error: <class 'ValueError'>\n",
      "Unexpected error: <class 'ValueError'>\n",
      "Unexpected error: <class 'ValueError'>\n",
      "Unexpected error: <class 'ValueError'>\n",
      "Unexpected error: <class 'ValueError'>\n",
      "Unexpected error: <class 'ValueError'>\n"
     ]
    }
   ],
   "source": [
    "#Odczytanie pliku ze zdaniami\n",
    "corpora_path = os.path.join(DATA_DIR, CLEAN_CORPORA)\n",
    "corpora_file = open(corpora_path, \"r\")\n",
    "corpora = corpora_file.read()\n",
    "corpora_file.close()\n",
    "\n",
    "#Utworzenie plików z językami\n",
    "pl_path = os.path.join(DATA_DIR, PL_SENTENCES)\n",
    "en_path = os.path.join(DATA_DIR, PL_SENTENCES)\n",
    "pl_file = open(pl_path, \"w\")\n",
    "en_file = open(en_path, \"w\")\n",
    "\n",
    "#Dodanie odpowiedniej zawartości do plików\n",
    "\n",
    "lines = corpora.splitlines()\n",
    "for line in lines:\n",
    "    try:\n",
    "        (en_sentence, pl_sentence) = line.split(\"\\t\")\n",
    "        en_file.write(en_sentence + \"\\n\")\n",
    "        pl_file.write(pl_sentence + \"\\n\")\n",
    "    except:\n",
    "        print(\"Unexpected error:\", sys.exc_info()[0])\n",
    "\n",
    "pl_file.close()\n",
    "en_file.close()"
   ]
  },
  {
   "cell_type": "markdown",
   "metadata": {},
   "source": [
    "## Podział na dev i test set"
   ]
  },
  {
   "cell_type": "code",
   "execution_count": 16,
   "metadata": {
    "collapsed": false
   },
   "outputs": [],
   "source": [
    "def split_into_sets(original_path, dev_path, test_path, train_path, dev_size = 0.05, test_size = 0.05):\n",
    "    corpora_file = open(original_path, \"r\")\n",
    "    corpora = corpora_file.read()\n",
    "    sentences = corpora.splitlines()\n",
    "    \n",
    "    dev_file = open(dev_path, \"w\")\n",
    "    test_file = open(test_path, \"w\")\n",
    "    train_file = open(train_path, \"w\")\n",
    "    for sentence in sentences:\n",
    "        rand = random.random()\n",
    "        if rand < dev_size:\n",
    "            dev_file.write(sentence + \"\\n\")\n",
    "        elif rand < dev_size + test_size:\n",
    "            test_file.write(sentence + \"\\n\")\n",
    "        else:\n",
    "            train_file.write(sentence + \"\\n\")\n",
    "    \n",
    "    dev_file.close()\n",
    "    test_file.close()\n",
    "    train_file.close()\n",
    "    corpora_file.close()\n",
    "    \n",
    "pl_sentences_path = os.path.join(DATA_DIR, PL_SENTENCES)\n",
    "pl_dev_path = os.path.join(DATA_DIR, PL_DEV)\n",
    "pl_test_path = os.path.join(DATA_DIR, PL_TEST)\n",
    "pl_train_path = os.path.join(DATA_DIR, PL_TRAIN)\n",
    "split_into_sets(pl_sentences_path, pl_dev_path, pl_test_path, pl_train_path, 0.05, 0.05)\n",
    "\n",
    "en_sentences_path = os.path.join(DATA_DIR, EN_SENTENCES)\n",
    "en_dev_path = os.path.join(DATA_DIR, EN_DEV)\n",
    "en_test_path = os.path.join(DATA_DIR, EN_TEST)\n",
    "en_train_path = os.path.join(DATA_DIR, EN_TRAIN)\n",
    "split_into_sets(en_sentences_path, en_dev_path, en_test_path, en_train_path, 0.05, 0.05)"
   ]
  }
 ],
 "metadata": {
  "kernelspec": {
   "display_name": "Python 3",
   "language": "python",
   "name": "python3"
  },
  "language_info": {
   "codemirror_mode": {
    "name": "ipython",
    "version": 3
   },
   "file_extension": ".py",
   "mimetype": "text/x-python",
   "name": "python",
   "nbconvert_exporter": "python",
   "pygments_lexer": "ipython3",
   "version": "3.6.0"
  }
 },
 "nbformat": 4,
 "nbformat_minor": 0
}
